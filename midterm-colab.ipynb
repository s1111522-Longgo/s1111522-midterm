{
  "nbformat": 4,
  "nbformat_minor": 0,
  "metadata": {
    "colab": {
      "provenance": [],
      "authorship_tag": "ABX9TyMCs79UVhSBuJauoH+5b6Tg",
      "include_colab_link": true
    },
    "kernelspec": {
      "name": "python3",
      "display_name": "Python 3"
    },
    "language_info": {
      "name": "python"
    }
  },
  "cells": [
    {
      "cell_type": "markdown",
      "metadata": {
        "id": "view-in-github",
        "colab_type": "text"
      },
      "source": [
        "<a href=\"https://colab.research.google.com/github/s1111522-Longgo/s1111522-midterm/blob/main/midterm-colab.ipynb\" target=\"_parent\"><img src=\"https://colab.research.google.com/assets/colab-badge.svg\" alt=\"Open In Colab\"/></a>"
      ]
    },
    {
      "cell_type": "code",
      "execution_count": 2,
      "metadata": {
        "colab": {
          "base_uri": "https://localhost:8080/"
        },
        "id": "8rKXsORLE6zk",
        "outputId": "6a0a697c-f9eb-46d9-fd28-11a7ec2d2c34"
      },
      "outputs": [
        {
          "output_type": "stream",
          "name": "stdout",
          "text": [
            "--2025-04-19 12:45:51--  https://raw.githubusercontent.com/s1111522-Longgo/s1111522-midterm/main/static.py\n",
            "Resolving raw.githubusercontent.com (raw.githubusercontent.com)... 185.199.111.133, 185.199.110.133, 185.199.108.133, ...\n",
            "Connecting to raw.githubusercontent.com (raw.githubusercontent.com)|185.199.111.133|:443... connected.\n",
            "HTTP request sent, awaiting response... 200 OK\n",
            "Length: 1173 (1.1K) [text/plain]\n",
            "Saving to: ‘static.py.1’\n",
            "\n",
            "\rstatic.py.1           0%[                    ]       0  --.-KB/s               \rstatic.py.1         100%[===================>]   1.15K  --.-KB/s    in 0s      \n",
            "\n",
            "2025-04-19 12:45:51 (66.2 MB/s) - ‘static.py.1’ saved [1173/1173]\n",
            "\n",
            "--2025-04-19 12:45:51--  https://raw.githubusercontent.com/s1111522-Longgo/s1111522-midterm/main/api.py\n",
            "Resolving raw.githubusercontent.com (raw.githubusercontent.com)... 185.199.108.133, 185.199.109.133, 185.199.110.133, ...\n",
            "Connecting to raw.githubusercontent.com (raw.githubusercontent.com)|185.199.108.133|:443... connected.\n",
            "HTTP request sent, awaiting response... 200 OK\n",
            "Length: 704 [text/plain]\n",
            "Saving to: ‘api.py.1’\n",
            "\n",
            "api.py.1            100%[===================>]     704  --.-KB/s    in 0s      \n",
            "\n",
            "2025-04-19 12:45:51 (40.2 MB/s) - ‘api.py.1’ saved [704/704]\n",
            "\n",
            "Requirement already satisfied: requests in /usr/local/lib/python3.11/dist-packages (2.32.3)\n",
            "Requirement already satisfied: beautifulsoup4 in /usr/local/lib/python3.11/dist-packages (4.13.4)\n",
            "Requirement already satisfied: charset-normalizer<4,>=2 in /usr/local/lib/python3.11/dist-packages (from requests) (3.4.1)\n",
            "Requirement already satisfied: idna<4,>=2.5 in /usr/local/lib/python3.11/dist-packages (from requests) (3.10)\n",
            "Requirement already satisfied: urllib3<3,>=1.21.1 in /usr/local/lib/python3.11/dist-packages (from requests) (2.3.0)\n",
            "Requirement already satisfied: certifi>=2017.4.17 in /usr/local/lib/python3.11/dist-packages (from requests) (2025.1.31)\n",
            "Requirement already satisfied: soupsieve>1.2 in /usr/local/lib/python3.11/dist-packages (from beautifulsoup4) (2.6)\n",
            "Requirement already satisfied: typing-extensions>=4.0.0 in /usr/local/lib/python3.11/dist-packages (from beautifulsoup4) (4.13.2)\n",
            "已成功輸出 static.json 與 static.csv！\n",
            "已成功輸出 api.csv！\n"
          ]
        }
      ],
      "source": [
        "# 下載 GitHub 上的檔案\n",
        "!wget https://raw.githubusercontent.com/s1111522-Longgo/s1111522-midterm/main/static.py\n",
        "!wget https://raw.githubusercontent.com/s1111522-Longgo/s1111522-midterm/main/api.py\n",
        "\n",
        "# 安裝需要的套件\n",
        "!pip install requests beautifulsoup4\n",
        "\n",
        "# 執行爬蟲\n",
        "!python static.py\n",
        "!python api.py"
      ]
    }
  ]
}